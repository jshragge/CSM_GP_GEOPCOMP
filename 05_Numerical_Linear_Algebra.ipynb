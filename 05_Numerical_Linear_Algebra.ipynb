{
 "cells": [
  {
   "cell_type": "code",
   "execution_count": 2,
   "metadata": {},
   "outputs": [],
   "source": [
    "import numpy as np\n",
    "import matplotlib.pyplot as plt"
   ]
  },
  {
   "cell_type": "markdown",
   "metadata": {},
   "source": [
    "1. Gauss Elimination\n",
    "1. LU Factorization, matrix inversion \n",
    "2. Solution by iteration (Gauss-Seidel)\n",
    "3. Ill-conditioning, norms\n",
    "\n",
    "LAB:\n"
   ]
  },
  {
   "cell_type": "markdown",
   "metadata": {},
   "source": [
    "# Numeric Linear Algebra\n",
    "This chapter discuss how to solve linear systems of equations numerically. We start with Gauss elimination, which are similar to how human being solving linear equations on the paper. We will also discuss several variants of this method (Doolittle, Cholesky, Gauss-Jordan). Then we will introduce numeric iteration methods to address the problem. These methods are less intuitive, but more computational effective and much more frequently used nowadays. "
   ]
  },
  {
   "cell_type": "markdown",
   "metadata": {},
   "source": [
    "## Gauss Elimination\n",
    "Gauss elimination and back substitution are common methods to solve linear equation set using matrix method. A **linear system of $n$ equations** in $n$ unknowns $x_1,...,x_n$ is a set of equations of the form\n",
    "$$\n",
    "a_{11}x_1 + ... a_{1n}x_n = b_1 \\\\\n",
    "a_{21}x_1 + ... a_{2n}x_n = b_2 \\\\\n",
    "... .........\\\\\n",
    "a_{n1}x_1 + ... a_{nn}x_n = b_n\n",
    "$$\n",
    "where the **coefficient** $a_{jk}$ and the $b_j$ are given numbers. This equation set can be written in matrix form as\n",
    "$$ Ax=b $$\n",
    "where the **coefficient matrix** $A=[a_{jk}]$ is the $n \\times n$ matrix, $x$ and $b$ are $n\\times 1$ vectors.\n",
    "$$\n",
    "A = \n",
    "\\left[\n",
    "\\begin{matrix}\n",
    "a_{11} & a{12} & ... & a_{1n} \\\\\n",
    "a_{21} & a{22} & ... & a_{2n} \\\\\n",
    ". & . & . & . \\\\\n",
    "a_{n1} & a{n2} & ... & a_{nn}\n",
    "\\end{matrix} \\right], \\ \\ x=\n",
    "\\left[\n",
    "\\begin{matrix}\n",
    "x_1 \\\\ x_2 \\\\ \\vdots \\\\ x_n\n",
    "\\end{matrix}\n",
    "\\right], \\ \\ b=\n",
    "\\left[\n",
    "\\begin{matrix}\n",
    "b_1 \\\\ b_2 \\\\ \\vdots \\\\ b_n\n",
    "\\end{matrix}\n",
    "\\right].\n",
    "$$"
   ]
  },
  {
   "cell_type": "markdown",
   "metadata": {},
   "source": [
    "We then form an **argmented matrix** of the system:\n",
    "$$\n",
    "\\tilde{A} = [A\\ b]=\n",
    "\\left[\n",
    "\\begin{matrix}\n",
    "a_{11} & ... & a_{1n} & b_1 \\\\\n",
    "a_{21} & ... & a_{2n} & b_2 \\\\\n",
    ".&.&.&.\\\\\n",
    "a_{n1} & ... & a_{nn} & b_n \\\\\n",
    "\\end{matrix}\n",
    "\\right].\n",
    "$$\n",
    "There are **three elementary row operations** we can perform on $\\tilde A$ that will not change the solution of the linear equation system:\n",
    "1. Interchange of two rows\n",
    "2. Addition of a constant multiple of one row to another row\n",
    "3. Multiplication of a row by a nonzero constant $c$\n",
    "\n",
    "These three operations correspond to the following \n",
    "1. Interchange of two equations\n",
    "2. Addition of a constant multiple of one equation to another euqation\n",
    "3. Multiplication of an equation by a nonzero constant $c$"
   ]
  },
  {
   "cell_type": "markdown",
   "metadata": {},
   "source": [
    "Gauss Elimination try to reduce the coefficient matrix $A$ from a full matrix to a **triangular** matrix through a combination of these three elementary row operations, which can then be easily solved by **back substitution**. For instance, a triangular system is\n",
    "$$\n",
    "\\begin{align}\n",
    "\\hat a_{11} x_1 + \\hat a_{12} x_2 + \\hat a_{13} x_3 + ...+ \\hat a_{1n} x_n &= \\hat b_1 \\\\\n",
    "\\hat a_{22} x_2 + \\hat a_{23} x_3 + ...+ \\hat a_{2n} x_n &=\\hat b_2 \\\\\n",
    "\\hat a_{33} x_3 + ... + \\hat a_{3n} x_n &= \\hat b_3 \\\\\n",
    "...... \\\\\n",
    "\\hat a_{n-1 n-1} x_{n-1} + \\hat a_{n-1n} x_n &=\\hat b_{n-1} \\\\\n",
    "\\hat a_{nn} x_n &= \\hat b_n\n",
    "\\end{align}\n",
    "$$\n",
    "Then from the last equation, we can solve the entire system step by step by **back substitution**:\n",
    "$$\n",
    "\\begin{align}\n",
    "x_n &= \\frac{\\hat b_n}{\\hat a_{nn}} \\\\\n",
    "x_{n-1} &= \\frac{1}{\\hat a_{n-1n-1}}(\\hat b_{n-1} - \\hat a_{n-1n}x_n) \\\\\n",
    "& ...... \\\\\n",
    " x_1  &=\\frac{1}{\\hat a_{11}} (\\hat b_1 - \\hat a_{12} x_2 - \\hat a_{13} x_3 - ...- \\hat a_{1n} x_n)\n",
    "\\end{align}\n",
    "$$"
   ]
  },
  {
   "cell_type": "markdown",
   "metadata": {},
   "source": [
    "To transform coefficient matrix $A$ into a triangular form, we first eliminate coefficient of $x_1$ from row 2 to $n$ of $\\tilde A$ by subtracting suitable multiples of row 1 from the other rows. In this step, the first row is called the **pivot equation** and $a_{11}$ is called the **pivot**. We changes all the rows of $\\tilde A$ except for the pivot row. We then eliminate coefficient of $x_2$ from row 3 to $n$ by subtracting suitable multiples of row 2 from all the rows below, and so on. \n",
    "$$\n",
    "\\tilde{A_0} = \n",
    "\\left[\n",
    "\\begin{matrix}\n",
    "a_{11} & a_{12} & ... & a_{1n} & b_1 \\\\\n",
    "a_{21} & a_{22} &... & a_{2n} & b_2 \\\\\n",
    ".&.&.&.&.\\\\\n",
    "a_{n1} & a_{n2} &... & a_{nn} & b_n \n",
    "\\end{matrix}\n",
    "\\right].\n",
    "$$\n",
    "\n",
    "$$\n",
    "\\tilde{A_1} = \n",
    "\\left[\n",
    "\\begin{matrix}\n",
    "a_{11} & a_{12} & ... & a_{1n} & b_1 \\\\\n",
    "a_{21} - a_{11}\\frac{a_{21}}{a_{11}} & a_{22}- a_{12}\\frac{a_{21}}{a_{11}} & ... \n",
    "& a_{2n} - a_{1n}\\frac{a_{21}}{a_{11}} & b_2 - b_1\\frac{a_{21}}{a_{11}} \\\\\n",
    ".&.&.&.&.\\\\\n",
    "a_{n1} - a_{11}\\frac{a_{n1}}{a_{11}} & a_{n2}- a_{12}\\frac{a_{n1}}{a_{11}} & ... \n",
    "& a_{nn} - a_{1n}\\frac{a_{n1}}{a_{11}} & b_n - b_1\\frac{a_{n1}}{a_{11}} \n",
    "\\end{matrix}\n",
    "\\right]\n",
    "=\n",
    "\\left[\n",
    "\\begin{matrix}\n",
    "a_{11} & a_{12} & ... & a_{1n} & b_1 \\\\\n",
    "0 & a_{22}^{(1)} &... & a_{2n}^{(1)} & b_2^{(1)} \\\\\n",
    ".&.&.&.&.\\\\\n",
    "0 & a_{n2}^{(1)} &... & a_{nn}^{(1)} & b_n^{(1)} \n",
    "\\end{matrix}\n",
    "\\right]. \n",
    "$$"
   ]
  },
  {
   "cell_type": "markdown",
   "metadata": {},
   "source": [
    "$$\n",
    "\\vdots \n",
    "$$\n",
    "$$\n",
    "\\vdots \n",
    "$$"
   ]
  },
  {
   "cell_type": "markdown",
   "metadata": {},
   "source": [
    "$$\n",
    "\\tilde A_n = \n",
    "\\left[\n",
    "\\begin{matrix}\n",
    "a_{11} & a_{12} &a_{13} & ... & a_{1n} & b_1 \\\\\n",
    "0 & a_{22}^{(1)} &a_{23}^{(1)} &... & a_{2n}^{(1)} & b_2^{(1)} \\\\\n",
    "0 & 0 & a_{33}^{(2)} &... & a_{3n}^{(2)} & b_2^{(2)} \\\\\n",
    ".&.&.&.&.&.\\\\\n",
    "0 & 0 & 0 &... & a_{nn}^{(n-1)} & b_n^{(n-1)} \n",
    "\\end{matrix}\n",
    "\\right]. \n",
    "$$"
   ]
  },
  {
   "cell_type": "markdown",
   "metadata": {},
   "source": [
    "One practical concern about Gauss Elimination is that the pivot $a_{kk}$ **must be** different from zero and **should be** large in absolute value to avoid numeric instability in the elimination. For this reason in each step we choose our pivot row the one with the absolutely largest $a_{jk}$ (with $j>k$) and interchange it with current row $k$. This method is called **partial pivoting** and is quite popular (e.g., Maple)."
   ]
  },
  {
   "cell_type": "code",
   "execution_count": 40,
   "metadata": {},
   "outputs": [],
   "source": [
    "def Gauss_elimination(A,b,print_process=False):\n",
    "    ''' Function that utilizes Gauss Elimination and back substitution to solve\n",
    "    a linear system Ax = b\n",
    "    usage: x = Gauss_elimination(A,b,print_process=False):\n",
    "    input: \n",
    "        A: nxn coefficient matrix, full rank\n",
    "        b: nx1 vector\n",
    "        print_process: boolean, whether to print the step-by-step process \n",
    "                        for Gauss Elimination\n",
    "    written by Ge Jin, gjin@mines.edu, 06/2019\n",
    "    '''\n",
    "    n = A.shape[0]\n",
    "    # generate argmented matrix\n",
    "    Ab = np.hstack((A,b.reshape(-1,1)))\n",
    "    # Gauss Elimination\n",
    "    for k in range(n-1):\n",
    "        # find the row with max ajk\n",
    "        maxi = np.argmax(Ab[:,k])\n",
    "        # swap the rows\n",
    "        Ab[[k,maxi]] = Ab[[maxi,k]]\n",
    "        # eliminate ajk from row k+1 to n\n",
    "        for j in range(k+1,n):\n",
    "            Ab[j,:] = Ab[j,:] - Ab[k,:]*Ab[j,k]/Ab[k,k]\n",
    "        if print_process:\n",
    "            print('Ab_{}='.format(k))\n",
    "            print(Ab)\n",
    "\n",
    "    # back substitution\n",
    "    x = np.zeros(n)\n",
    "    x[n-1] = Ab[n-1,n]/Ab[n-1,n-1]\n",
    "    for k in range(len(x)-2,-1,-1):\n",
    "        x[k] = 1/Ab[k,k]*(Ab[k,n]-np.sum(Ab[k,:-1]*x))\n",
    "    return x"
   ]
  },
  {
   "cell_type": "code",
   "execution_count": 41,
   "metadata": {},
   "outputs": [
    {
     "name": "stdout",
     "output_type": "stream",
     "text": [
      "Ab_0=\n",
      "[[ 6.  2.  8. 26.]\n",
      " [ 0.  4. -2. -5.]\n",
      " [ 0.  8.  2. -7.]]\n",
      "Ab_1=\n",
      "[[ 6.   2.   8.  26. ]\n",
      " [ 0.   8.   2.  -7. ]\n",
      " [ 0.   0.  -3.  -1.5]]\n",
      "x= [ 4.  -1.   0.5]\n"
     ]
    }
   ],
   "source": [
    "# an example\n",
    "A = np.array([[6.,2,8],[3,5,2],[0,8,2]])\n",
    "b = np.array([26.,8.,-7.])\n",
    "x = Gauss_elimination(A,b,print_process=True)\n",
    "print('x=',x)"
   ]
  },
  {
   "cell_type": "markdown",
   "metadata": {},
   "source": [
    "### Computation cost of Gauss Elimination\n",
    "Generally, the important factors in judging the quality of a numeric method are\n",
    "- Amount of storage\n",
    "- Amount of time (number of operations)\n",
    "- Effect of roundoff error (numerical stability)\n",
    "\n",
    "For Gauss elimination, the operation count for a full matrix is as follows. In Step $k$ we eliminate $x_k$ from $n-k$ equations. This needs $n-k$ divisions in computing the $a_{jk}/a_{kk}$, and $(n-k)(n-k+1)$ multiplications and as many subtractions. Since we do $n-1$ steps, $k$ goes from 1 to $n-1$ and thus the total number of operations in this forward elimination is\n",
    "$$\n",
    "f(n) = \\sum_{k=1}^{n-1}(n-k) + 2\\sum_{k=1}^{n-1}(n-k)(n-k+1)\n",
    "= \\frac{1}{2}(n-1)n + \\frac{2}{3}(n^2-1)n \\approx \\frac{2}{3} n^3\n",
    "$$\n",
    "where $2n^3/3$ is obtained by dropping lower powers of $n$ (when $n$ is large, the only term that matters is the one with highest power of $n$). Because $f(n)$ grows about proportional to $n^3$, we say that $f(n)$ is order $n^3$ and write\n",
    "$$\n",
    "f(n) = O(n^3)\n",
    "$$"
   ]
  },
  {
   "cell_type": "markdown",
   "metadata": {},
   "source": [
    "In the back substituion of $x_i$ we make $n-i$ multiplications and as many subtractions, as well as 1 division. Hence the number of operations in the back substitution is\n",
    "$$\n",
    "b(n) = 2\\sum_{i=1}^{n}(n-i) + n = n(n+1)+n = N^2+2n = O(n^2)\n",
    "$$"
   ]
  },
  {
   "cell_type": "markdown",
   "metadata": {},
   "source": [
    "For instance, if an operation takes $10^{-9}$ second, then the times needed are:\n",
    "\n",
    "| Algorithm | $n=1000$ | $n=10000$ |\n",
    "|---------|-------------------|----------------|\n",
    "|Elimination | 0.7 sec | 660 sec |\n",
    "|Back substitution | 0.001 sec | 0.1 sec |\n"
   ]
  },
  {
   "cell_type": "markdown",
   "metadata": {},
   "source": [
    "## LU-Factorization\n",
    "Another way to solve linear systems $ Ax=b$ numerically if through **LU-Factorization**. An LU-factorization of a given square matrix $A$ is of the form\n",
    "$$ A=LU $$\n",
    "where $L$ is **lower triangular** matrix and $U$ is **upper triangular** matrix."
   ]
  },
  {
   "cell_type": "code",
   "execution_count": null,
   "metadata": {},
   "outputs": [],
   "source": []
  }
 ],
 "metadata": {
  "kernelspec": {
   "display_name": "Python 3",
   "language": "python",
   "name": "python3"
  },
  "language_info": {
   "codemirror_mode": {
    "name": "ipython",
    "version": 3
   },
   "file_extension": ".py",
   "mimetype": "text/x-python",
   "name": "python",
   "nbconvert_exporter": "python",
   "pygments_lexer": "ipython3",
   "version": "3.7.0"
  },
  "toc": {
   "base_numbering": 1,
   "nav_menu": {},
   "number_sections": true,
   "sideBar": true,
   "skip_h1_title": false,
   "title_cell": "Table of Contents",
   "title_sidebar": "Contents",
   "toc_cell": false,
   "toc_position": {},
   "toc_section_display": true,
   "toc_window_display": true
  }
 },
 "nbformat": 4,
 "nbformat_minor": 2
}
