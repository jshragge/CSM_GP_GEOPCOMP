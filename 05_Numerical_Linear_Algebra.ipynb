{
 "cells": [
  {
   "cell_type": "markdown",
   "metadata": {},
   "source": []
  },
  {
   "cell_type": "markdown",
   "metadata": {},
   "source": [
    "1. Gauss Elimination\n",
    "1. LU Factorization, matrix inversion \n",
    "2. Solution by iteration (Gauss-Seidel)\n",
    "3. Ill-conditioning, norms\n",
    "\n",
    "LAB:\n"
   ]
  },
  {
   "cell_type": "markdown",
   "metadata": {},
   "source": [
    "# Numeric Linear Algebra\n",
    "This chapter discuss how to solve linear systems of equations numerically. We start with Gauss elimination, which are similar to how human being solving linear equations on the paper. We will also discuss several variants of this method (Doolittle, Cholesky, Gauss-Jordan). Then we will introduce numeric iteration methods to address the problem. These methods are less intuitive, but more computational effective and much more frequently used nowadays. "
   ]
  },
  {
   "cell_type": "markdown",
   "metadata": {},
   "source": [
    "## Gauss Elimination\n",
    "Gauss elimination and back substitution are common methods to solve linear equation set using matrix method. A **linear system of $n$ equations** in $n$ unknowns $x_1,...,x_n$ is a set of equations of the form\n",
    "$$\n",
    "a_{11}x_1 + ... a_{1n}x_n = b_1 \\\\\n",
    "a_{21}x_1 + ... a_{2n}x_n = b_2 \\\\\n",
    "... .........\\\\\n",
    "a_{n1}x_1 + ... a_{nn}x_n = b_n\n",
    "$$\n",
    "where the **coefficient** $a_{jk}$ and the $b_j$ are given numbers. This equation set can be written in matrix form as\n",
    "$$ Ax=b $$\n",
    "where the **coefficient matrix** $A=[a_{jk}]$ is the $n \\times n$ matrix, $x$ and $b$ are $n\\times 1$ vectors.\n",
    "$$\n",
    "A = \n",
    "\\left[\n",
    "\\begin{matrix}\n",
    "a_{11} & a{12} & ... & a_{1n} \\\\\n",
    "a_{21} & a{22} & ... & a_{2n} \\\\\n",
    ". & . & . & . \\\\\n",
    "a_{n1} & a{n2} & ... & a_{nn}\n",
    "\\end{matrix} \\right], \\ \\ x=\n",
    "\\left[\n",
    "\\begin{matrix}\n",
    "x_1 \\\\ x_2 \\\\ \\vdots \\\\ x_n\n",
    "\\end{matrix}\n",
    "\\right], \\ \\ b=\n",
    "\\left[\n",
    "\\begin{matrix}\n",
    "b_1 \\\\ b_2 \\\\ \\vdots \\\\ b_n\n",
    "\\end{matrix}\n",
    "\\right].\n",
    "$$"
   ]
  },
  {
   "cell_type": "markdown",
   "metadata": {},
   "source": [
    "We then form an **argmented matrix** of the system:\n",
    "$$\n",
    "\\tilde{A} = [A\\ b]=\n",
    "\\left[\n",
    "\\begin{matrix}\n",
    "a_{11} & ... & a_{1n} & b_1 \\\\\n",
    "a_{21} & ... & a_{2n} & b_2 \\\\\n",
    ".&.&.&.\\\\\n",
    "a_{n1} & ... & a_{nn} & b_n \\\\\n",
    "\\end{matrix}\n",
    "\\right].\n",
    "$$\n",
    "There are **three elementary row operations** we can perform on $\\tilde A$ that will not change the solution of the linear equation system:\n",
    "1. Interchange of two rows\n",
    "2. Addition of a constant multiple of one row to another row\n",
    "3. Multiplication of a row by a nonzero constant $c$\n",
    "\n",
    "These three operations correspond to the following \n",
    "1. Interchange of two equations\n",
    "2. Addition of a constant multiple of one equation to another euqation\n",
    "3. Multiplication of an equation by a nonzero constant $c$"
   ]
  },
  {
   "cell_type": "markdown",
   "metadata": {},
   "source": [
    "Gauss Elimination try to reduce the coefficient matrix $A$ from a full matrix to a **triangular** matrix through a combination of these three elementary row operations, which can then be easily solved by **back substitutiion**. For instance, a triangular system is\n",
    "$$\n",
    "\\begin{align}\n",
    "3x_1 + 5x_2 + 2x_3 &= 8 \\\\\n",
    "8x_2 + 2x_3 &= -7 \\\\\n",
    "6x_3 &= 3\n",
    "\\end{align}\n",
    "$$\n",
    "and back substitution gives $x_3 = 3/6 = 0.5$ from the third equation, then\n",
    "$$ x_2 = \\frac{1}{8}(-7-2x_3) = -1 $$\n",
    "from the second equation, and finally from the first equation\n",
    "$$ x_1 = \\frac{1}{3}(8-5x_2-2x_3)=4.  $$"
   ]
  },
  {
   "cell_type": "code",
   "execution_count": null,
   "metadata": {},
   "outputs": [],
   "source": []
  }
 ],
 "metadata": {
  "kernelspec": {
   "display_name": "Python 3",
   "language": "python",
   "name": "python3"
  },
  "language_info": {
   "codemirror_mode": {
    "name": "ipython",
    "version": 3
   },
   "file_extension": ".py",
   "mimetype": "text/x-python",
   "name": "python",
   "nbconvert_exporter": "python",
   "pygments_lexer": "ipython3",
   "version": "3.7.0"
  },
  "toc": {
   "base_numbering": 1,
   "nav_menu": {},
   "number_sections": true,
   "sideBar": true,
   "skip_h1_title": false,
   "title_cell": "Table of Contents",
   "title_sidebar": "Contents",
   "toc_cell": false,
   "toc_position": {},
   "toc_section_display": true,
   "toc_window_display": false
  }
 },
 "nbformat": 4,
 "nbformat_minor": 2
}
