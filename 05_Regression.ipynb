{
 "cells": [
  {
   "cell_type": "code",
   "execution_count": 1,
   "metadata": {},
   "outputs": [
    {
     "data": {
      "text/html": [
       "<script>\n",
       "code_show=true; \n",
       "function code_toggle() {\n",
       " if (code_show){\n",
       " $('div.input').hide();\n",
       " } else {\n",
       " $('div.input').show();\n",
       " }\n",
       " code_show = !code_show\n",
       "} \n",
       "$( document ).ready(code_toggle);\n",
       "</script>\n",
       "The raw code for this Jupyter notebook is by default hidden for easier reading.\n",
       "To toggle on/off the raw code, click <a href=\"javascript:code_toggle()\">here</a>."
      ],
      "text/plain": [
       "<IPython.core.display.HTML object>"
      ]
     },
     "execution_count": 1,
     "metadata": {},
     "output_type": "execute_result"
    }
   ],
   "source": [
    "from IPython.display import HTML\n",
    "\n",
    "HTML('''<script>\n",
    "code_show=true; \n",
    "function code_toggle() {\n",
    " if (code_show){\n",
    " $('div.input').hide();\n",
    " } else {\n",
    " $('div.input').show();\n",
    " }\n",
    " code_show = !code_show\n",
    "} \n",
    "$( document ).ready(code_toggle);\n",
    "</script>\n",
    "The raw code for this Jupyter notebook is by default hidden for easier reading.\n",
    "To toggle on/off the raw code, click <a href=\"javascript:code_toggle()\">here</a>.''')"
   ]
  },
  {
   "cell_type": "markdown",
   "metadata": {},
   "source": [
    "![title](figs/COMPGEOP_TITLE.jpg)"
   ]
  },
  {
   "cell_type": "markdown",
   "metadata": {},
   "source": [
    "# Regression\n",
    "\n",
    "The linear problems we have learned so far are all balanced or square system, in which the number of equations equals the number of unknowns. However, in the real cases, overdetermined linear systems are much more common: we almost always take more measurements than the unknowns in order to reduce the effect of noises. How can we solve a overdetermined system?"
   ]
  },
  {
   "cell_type": "markdown",
   "metadata": {},
   "source": [
    "## Linear Least Square Regression\n",
    "\n",
    "Consider an overdetermined linear system $A x = b$, where $A$ is a $n \\times m$ rectangular matrix, where $n > m$. We also require $A$ to be full rank. Due to the error in the measurement $b$, in most cases there are no $x$ existing that fully satisfies all the equations in the system. \n",
    "\n",
    "To solve the problem, we need to find a $x$ that minimize the error between the model prediction ($Ax$) and measurement ($b$), which can be presented by a column vector as:\n",
    "$$ e = Ax - b $$\n",
    "\n",
    "The most common way to solve $x$ is to minimize L-2 norm of the error vector $e$, which is defined as:\n",
    "$$\n",
    "E = \\sum_{i=1}^{m} e_i^2 = e^T e\n",
    "$$\n",
    "where $e^T$ is the transpose of $e$. "
   ]
  },
  {
   "cell_type": "markdown",
   "metadata": {},
   "source": [
    "By substituting $e = Ax-b$, we have\n",
    "$$\n",
    "E = e^Te = (Ax-b)^T(Ax-b) = x^TA^TAx - b^TAx - x^TA^Tb + b^Tb = x^TA^TAx - 2x^TA^Tb + b^Tb\n",
    "$$\n",
    "To find $x$ that minimizes $E$, we set the derivatives of $E$ with respect to $x$ to zero:\n",
    "$$\n",
    "\\frac{\\partial E}{\\partial x} = -2 A^Tb + 2A^T A x = 0\n",
    "$$\n",
    "which gives us one of the **normal equations**:\n",
    "$$\n",
    "A^T A x = A^T b \\\\\n",
    "A^\\dagger x=b^\\dagger\n",
    "$$\n",
    "This brings us back the problem we have learned in the last section, where $A^\\dagger = A^TA$ is a full-rank square matrix, $b^\\dagger = A^T b$ is a column vector. "
   ]
  },
  {
   "cell_type": "markdown",
   "metadata": {},
   "source": [
    "### Exercise\n",
    "By knowing the following matrix differentiation rules, please prove the normal equations. \n",
    "$$\n",
    "\\alpha = A x  \\ \\ \\ \\Longrightarrow \\ \\ \\ \n",
    "\\frac{\\partial \\alpha}{\\partial x} = A\n",
    "$$\n",
    "$$\n",
    "\\alpha = x^T A  \\ \\ \\ \\Longrightarrow \\ \\ \\ \n",
    "\\frac{\\partial \\alpha}{\\partial x} = A^T\n",
    "$$\n",
    "$$\n",
    "\\alpha = x^T A x  \\ \\ \\ \\Longrightarrow \\ \\ \\ \n",
    "\\frac{\\partial \\alpha}{\\partial x} = x^T \\left(A + A^T \\right)\n",
    "$$\n",
    "The proof of the matrix differentiation rules can be found [here](https://atmos.washington.edu/~dennis/MatrixCalculus.pdf)."
   ]
  },
  {
   "cell_type": "markdown",
   "metadata": {},
   "source": [
    "## 1-D Linear Regression: Fitting a Straight Line\n",
    "\n",
    "Two variables $\\alpha$ and $\\beta$ that we know are linearly related, which can be presented as\n",
    "$$\n",
    "\\beta = c_1 \\alpha + c_0\n",
    "$$\n",
    "where $a$ and $b$ are the unknown constant to be determined. By taking a series of measurements, we have $n$ data points $(\\alpha_1,\\beta_1), (\\alpha_2,\\beta_2),..., (\\alpha_n,\\beta_n)$. The goal is to find the optimized $a$ and $b$ such that the error\n",
    "$$\n",
    "\\varepsilon^2 = \\sum_{i=1}^{n} \\left( c_1\\alpha_i + c_0 - \\beta_i \\right)^2\n",
    "$$\n",
    "is minimized."
   ]
  },
  {
   "cell_type": "markdown",
   "metadata": {},
   "source": [
    "This problem is equivalent to the least-square problem we just discussed, if we rewrite the problem in the matrix form as:\n",
    "$$\n",
    "e = \n",
    "\\left[\n",
    "\\begin{matrix}\n",
    "\\alpha_1 & 1 \\\\\n",
    "\\alpha_2 & 1 \\\\\n",
    "\\vdots & \\vdots \\\\\n",
    "\\alpha_n & 1 \n",
    "\\end{matrix}\n",
    "\\right]\n",
    "\\left[\n",
    "\\begin{matrix}\n",
    "c_1 \\\\\n",
    "c_0\n",
    "\\end{matrix}\n",
    "\\right]\n",
    "- \n",
    "\\left[\n",
    "\\begin{matrix}\n",
    "\\beta_1 \\\\\n",
    "\\beta_2 \\\\\n",
    "\\vdots \\\\\n",
    "\\beta_n \\\\\n",
    "\\end{matrix}\n",
    "\\right]\n",
    "$$\n",
    "and by minimizing $e^Te$ we have\n",
    "$$\n",
    "A^T A x = A^T b\n",
    "$$\n",
    "where\n",
    "$$\n",
    "A = \n",
    "\\left[\n",
    "\\begin{matrix}\n",
    "\\alpha_1 & 1 \\\\\n",
    "\\alpha_2 & 1 \\\\\n",
    "\\vdots & \\vdots \\\\\n",
    "\\alpha_n & 1 \n",
    "\\end{matrix}\n",
    "\\right], \\ \\ \\ \\ \\ \n",
    "x = \n",
    "\\left[\n",
    "\\begin{matrix}\n",
    "c_1 \\\\\n",
    "c_0\n",
    "\\end{matrix}\n",
    "\\right], \\ \\ \\ \\ \\ \n",
    "b = \n",
    "\\left[\n",
    "\\begin{matrix}\n",
    "\\beta_1 \\\\\n",
    "\\beta_2 \\\\\n",
    "\\vdots \\\\\n",
    "\\beta_n \\\\\n",
    "\\end{matrix}\n",
    "\\right]\n",
    "$$"
   ]
  },
  {
   "cell_type": "markdown",
   "metadata": {},
   "source": [
    "$c_0$ and $c_1$ can be solved by\n",
    "$$\n",
    "\\left[ \\begin{matrix}\n",
    "c_1 \\\\ c_0\n",
    "\\end{matrix} \\right]\n",
    "= \\left(A^TA\\right)^{-1}A^T b\n",
    "$$"
   ]
  },
  {
   "cell_type": "code",
   "execution_count": 5,
   "metadata": {},
   "outputs": [
    {
     "name": "stdout",
     "output_type": "stream",
     "text": [
      "True answer: c_1:0.5,c_0:3.4\n",
      "Inverted answer: c_1:0.49,c_0:3.40\n",
      "[[3942.12072078   65.86900594]\n",
      " [  65.86900594  100.        ]]\n"
     ]
    },
    {
     "data": {
      "image/png": "[encoded data removed]",
      "text/plain": [
       "<Figure size 432x288 with 1 Axes>"
      ]
     },
     "metadata": {
      "needs_background": "light"
     },
     "output_type": "display_data"
    }
   ],
   "source": [
    "# python program to perform a 1-D linear inversion\n",
    "import numpy as np\n",
    "import matplotlib.pyplot as plt\n",
    "\n",
    "# defining the true relation and noise level\n",
    "c1 = 0.5; c0 = 3.4;\n",
    "noise_level = 1\n",
    "true_fun = lambda x: c1*x+c0\n",
    "\n",
    "# generate the data\n",
    "x = (np.random.rand(100)-0.5)*20\n",
    "y = true_fun(x)\n",
    "y += noise_level*(np.random.rand(100)-0.5) # add noise to data\n",
    "\n",
    "# perform least-square fitting\n",
    "A = np.hstack((x.reshape(-1,1),np.ones(len(x)).reshape(-1,1)))\n",
    "A_dagger = A.T.dot(A)\n",
    "para = np.linalg.inv(A_dagger).dot(A.T.dot(y))\n",
    "\n",
    "# print out the result\n",
    "print('True answer: c_1:{},c_0:{}'.format(c1,c0))\n",
    "print('Inverted answer: c_1:{:.2f},c_0:{:.2f}'.format(para[0],para[1]))\n",
    "\n",
    "\n",
    "predict_x = np.array([-10,10])\n",
    "predict_y = para[0]*predict_x+para[1]\n",
    "\n",
    "print(A_dagger)\n",
    "\n",
    "plt.figure()\n",
    "plt.plot(x,y,'.')\n",
    "plt.plot(predict_x,predict_y,'r')\n",
    "plt.plot(predict_x,true_fun(predict_x),'k--')\n",
    "plt.show()"
   ]
  },
  {
   "cell_type": "markdown",
   "metadata": {},
   "source": [
    "## 1-D Polynomial Curve Fitting\n",
    "It makes sense that we can use linear least square method to solve a linear function problem, but what if the variables $\\alpha$ and $\\beta$ are not related linearly, but through a $m^{th}$-order polynomial function?\n",
    "$$\n",
    "\\beta = c_m \\alpha^m + c_{m-1} \\alpha^{m-1} + ... + c_1 \\alpha + c_0\n",
    "$$\n",
    "It turns out that we can use the exact same setting as the linear equation, by forming matrix and vectors:\n",
    "$$\n",
    "A = \n",
    "\\left[ \\begin{matrix}\n",
    "\\alpha_1^m & \\alpha_1^{m-1} & ... & \\alpha_1 & 1 \\\\\n",
    "\\alpha_2^m & \\alpha_2^{m-1} & ... & \\alpha_2 & 1 \\\\\n",
    "\\vdots & \\vdots & ... & \\vdots & \\vdots \\\\\n",
    "\\alpha_n^m & \\alpha_n^{m-1} & ... & \\alpha_n & 1 \\\\\n",
    "\\end{matrix} \\right], \\ \\ \\ \\ \\ \n",
    "x = \n",
    "\\left[ \\begin{matrix}\n",
    "c_m \\\\ c_{m-1} \\\\ \\vdots \\\\ c_0\n",
    "\\end{matrix} \\right], \\ \\ \\ \\ \\ \n",
    "b = \n",
    "\\left[ \\begin{matrix}\n",
    "\\beta_m \\\\ \\beta_{m-1} \\\\ \\vdots \\\\ \\beta_0\n",
    "\\end{matrix} \\right], \\ \\ \\ \\ \\ \n",
    "$$\n",
    "same as above, the coefficients $c_0,c_1,...,c_m$ can be solved by:\n",
    "$$\n",
    "\\left[ \\begin{matrix}\n",
    "c_m \\\\ c_{m-1} \\\\ ... \\\\ c_0\n",
    "\\end{matrix} \\right]\n",
    "= \\left(A^TA\\right)^{-1}A^T b\n",
    "$$"
   ]
  },
  {
   "cell_type": "code",
   "execution_count": 7,
   "metadata": {
    "scrolled": false
   },
   "outputs": [
    {
     "name": "stdout",
     "output_type": "stream",
     "text": [
      "True answer:  [1, 2, 3, 4, 5]\n",
      "Inverted answer:  [1.25980445 2.44162255 2.82622074 3.71515749 5.00888747]\n"
     ]
    },
    {
     "data": {
      "image/png": "[encoded data removed]",
      "text/plain": [
       "<Figure size 432x288 with 1 Axes>"
      ]
     },
     "metadata": {
      "needs_background": "light"
     },
     "output_type": "display_data"
    }
   ],
   "source": [
    "# python program to perform a 1-D linear inversion\n",
    "import numpy as np\n",
    "import matplotlib.pyplot as plt\n",
    "\n",
    "# defining the true relation and noise level\n",
    "c = [1,2,3,4,5]\n",
    "noise_level = 1\n",
    "true_fun = lambda x: np.polyval(c,x)\n",
    "\n",
    "# generate the data\n",
    "x = (np.random.rand(100)-0.5)*2\n",
    "y = true_fun(x)\n",
    "y += noise_level*(np.random.rand(100)-0.5) # add noise to data\n",
    "\n",
    "# perform least-square fitting\n",
    "A = np.ones((len(x))).reshape(-1,1)\n",
    "for i in range(1,len(c)):\n",
    "    A = np.hstack((x.reshape(-1,1)**i,A))\n",
    "A_dagger = A.T.dot(A)\n",
    "para = np.linalg.inv(A_dagger).dot(A.T.dot(y))\n",
    "\n",
    "# print out the result\n",
    "print('True answer: ',c)\n",
    "print('Inverted answer: ',para)\n",
    "\n",
    "predict_x = np.linspace(-1,1,100)\n",
    "predict_y = np.polyval(c,predict_x)\n",
    "\n",
    "plt.figure()\n",
    "plt.plot(x,y,'x')\n",
    "plt.plot(predict_x,predict_y,'r')\n",
    "plt.plot(predict_x,true_fun(predict_x),'k--')\n",
    "plt.show()"
   ]
  },
  {
   "cell_type": "markdown",
   "metadata": {},
   "source": [
    "## 2-D Polynomial Surface Fitting\n",
    "\n",
    "The same idea applies to higher dimension problems. Say variable $\\gamma$ is depended on variables $\\alpha$ and $\\beta$ through a 2-D 2nd-order polynomial function\n",
    "$$\n",
    "\\gamma = c_0 + c_1\\alpha + c_2 \\alpha^2 + c_3 \\alpha \\beta + c_4 \\beta + c_5 \\beta^2 \n",
    "$$\n",
    "we can again form the linear equation set $Ax$ with\n",
    "$$\n",
    "A = \n",
    "\\left[ \\begin{matrix}\n",
    "\\beta_1^2 & \\beta_1 & \\alpha_1\\beta_1 &\\alpha_1^2 &\\alpha_1 & 1 \\\\\n",
    "\\beta_2^2 & \\beta_2 & \\alpha_2\\beta_2 &\\alpha_2^2 &\\alpha_2 & 1 \\\\\n",
    "\\vdots & \\vdots & \\vdots & \\vdots & \\vdots & \\vdots \\\\\n",
    "\\beta_n^2 & \\beta_n & \\alpha_n\\beta_n &\\alpha_n^2 &\\alpha_n & 1\n",
    "\\end{matrix} \\right], \\ \\ \\ \\ \\ \\ \n",
    "x = \n",
    "\\left[ \\begin{matrix}\n",
    "c_5 \\\\ c_4 \\\\ c_3 \\\\ c_2 \\\\ c_1 \\\\ c_0  \n",
    "\\end{matrix} \\right] \n",
    "$$\n",
    "and solve it using least square method."
   ]
  },
  {
   "cell_type": "markdown",
   "metadata": {},
   "source": [
    "## Weighted Least Square Method\n",
    "\n",
    "One of the problem for least square inversion is that it is very sensitive to outliers or measurements with large error, due to the nature of $L_2$ norm. \n",
    "\n",
    "One way to reduce the impact of bad data is to give them less weight in the error function. \n",
    "Because the actual problem we solve for least square problems is to minimize $||Ax-b||_2$, the elementary operations of linear equation set do not apply any more (except for the interchange rule). By multiplying one row of $A$ and $b$ at the same time, we change the ratio of the prediction error of the measurement in the total error. This gives us the opportunity to apply different weights to the measurements with different accuracy.\n",
    "\n",
    "Multiple each row with a different weight $w_i$, the error $e$ can be written as\n",
    "$$\n",
    "e = WAx - Wb = A'x - b'\n",
    "$$\n",
    "where $A' = WA$, $b' = Wb$, and $W$ is a diagonal matrix with $W_{ii} = w_i$.\n",
    "\n",
    "Replacing $A'$ and $b'$ in the normal equations we have\n",
    "$$\n",
    "(WA)^T(WA)x = (WA)^TWb \\\\\n",
    "A^T W^T W A x = A^T W^T W b \\\\\n",
    "A^T W' A x = A^T W' b\n",
    "$$\n",
    "where $W' = W^TW$, which is also a diagonal matrix with $W'_{ii} = w_i^2$."
   ]
  },
  {
   "cell_type": "code",
   "execution_count": 27,
   "metadata": {},
   "outputs": [
    {
     "name": "stdout",
     "output_type": "stream",
     "text": [
      "True answer: c_1:0.5,c_0:3.4\n",
      "Least Square answer: c_1:0.36,c_0:3.74\n",
      "Weighted Least Square answer: c_1:0.50,c_0:3.53\n"
     ]
    },
    {
     "data": {
      "image/png": "[encoded data removed]",
      "text/plain": [
       "<Figure size 432x288 with 1 Axes>"
      ]
     },
     "metadata": {
      "needs_background": "light"
     },
     "output_type": "display_data"
    }
   ],
   "source": [
    "# demonstration of effect of outlier to least sqaure inversion\n",
    "import numpy as np\n",
    "import matplotlib.pyplot as plt\n",
    "\n",
    "# defining the true relation and noise level\n",
    "c1 = 0.5; c0 = 3.4;\n",
    "noise_level = 1\n",
    "true_fun = lambda x: c1*x+c0\n",
    "\n",
    "# generate the data\n",
    "data_number = 20\n",
    "x = (np.random.rand(data_number)-0.5)*20\n",
    "y = true_fun(x)\n",
    "y += noise_level*(np.random.rand(data_number)-0.5) # add noise to data\n",
    "\n",
    "# add an outlier\n",
    "y[10] = 10\n",
    "x[10] = -10\n",
    "\n",
    "# perform normal least-square fitting\n",
    "A = np.hstack((x.reshape(-1,1),np.ones(len(x)).reshape(-1,1)))\n",
    "A_dagger = A.T.dot(A)\n",
    "para = np.linalg.inv(A_dagger).dot(A.T.dot(y))\n",
    "\n",
    "# perform weighted least-square fitting\n",
    "w = np.ones(data_number)\n",
    "w[10] = 0.1 # change the weight of the outlier\n",
    "W = np.diag(w**2)\n",
    "A_dagger = A.T.dot(W).dot(A)\n",
    "para_w = np.linalg.inv(A_dagger).dot(A.T.dot(W).dot(y))\n",
    "\n",
    "# print out the result\n",
    "print('True answer: c_1:{},c_0:{}'.format(c1,c0))\n",
    "print('Least Square answer: c_1:{:.2f},c_0:{:.2f}'.format(para[0],para[1]))\n",
    "print('Weighted Least Square answer: c_1:{:.2f},c_0:{:.2f}'.format(para_w[0],para_w[1]))\n",
    "\n",
    "predict_x = np.array([-10,10])\n",
    "predict_y = para[0]*predict_x+para[1]\n",
    "predict_y_w = para_w[0]*predict_x+para_w[1]\n",
    "\n",
    "plt.figure()\n",
    "plt.plot(x,y,'.',label='data')\n",
    "plt.plot(predict_x,predict_y,'r',label = 'least sqaure')\n",
    "plt.plot(predict_x,true_fun(predict_x),'k--', label='true model')\n",
    "plt.plot(predict_x,predict_y_w,'g',label = 'weighted least sqaure')\n",
    "plt.legend()\n",
    "plt.show()"
   ]
  },
  {
   "cell_type": "markdown",
   "metadata": {},
   "source": [
    "### Weight Selection\n",
    "\n",
    "Ideally the weight $w_i$ of each measurement should be its standard deviation. For example, if the measurements are carried out by two different instruments, with one being less than accurate the other, we should weight the measurements differently based on their instrument precision (standard deviation). \n",
    "\n",
    "In the real situation many outliers are due to data error or instrument instability, of which the standard deviation is difficult to estimate. In this case we can solve the problem iteratively:\n",
    "\n",
    "1. Perform a regular least-square inversion. \n",
    "2. Calculate the error of each measurement.\n",
    "3. Weight each measurement (row) based on the prediction error.\n",
    "4. Perform weighted least-square inversion.\n",
    "\n",
    "Step 2-4 should be repeated several times until the inversion result is stabilized. "
   ]
  },
  {
   "cell_type": "code",
   "execution_count": 61,
   "metadata": {},
   "outputs": [
    {
     "name": "stdout",
     "output_type": "stream",
     "text": [
      "True answer: c_1:0.5,c_0:3.4\n",
      "Weighted Least Square answer: c_1:0.51,c_0:3.36\n"
     ]
    },
    {
     "data": {
      "image/png": "[encoded data removed]",
      "text/plain": [
       "<Figure size 432x288 with 1 Axes>"
      ]
     },
     "metadata": {
      "needs_background": "light"
     },
     "output_type": "display_data"
    }
   ],
   "source": [
    "# demonstration of effect of outlier to least sqaure inversion\n",
    "import numpy as np\n",
    "import matplotlib.pyplot as plt\n",
    "\n",
    "# defining the true relation and noise level\n",
    "c1 = 0.5; c0 = 3.4;\n",
    "noise_level = 1\n",
    "true_fun = lambda x: c1*x+c0\n",
    "\n",
    "# generate the data\n",
    "data_number = 20\n",
    "x = (np.random.rand(data_number)-0.5)*20\n",
    "y = true_fun(x)\n",
    "y += noise_level*(np.random.rand(data_number)-0.5) # add noise to data\n",
    "\n",
    "# add an outlier\n",
    "y[10] = 10\n",
    "x[10] = -10\n",
    "\n",
    "plt.figure()\n",
    "plt.plot(x,y,'.',label='data')\n",
    "predict_x = np.array([-10,10])\n",
    "plt.plot(predict_x,true_fun(predict_x),'k--', label='true model')\n",
    "# perform iterative weighted least-square fitting\n",
    "w = np.ones(data_number)\n",
    "A = np.hstack((x.reshape(-1,1),np.ones(len(x)).reshape(-1,1)))\n",
    "for iter_i in range(5):\n",
    "    W = np.diag(w**2)\n",
    "    A_dagger = A.T.dot(W).dot(A)\n",
    "    para_w = np.linalg.inv(A_dagger).dot(A.T.dot(W).dot(y))\n",
    "    y_pre = para_w[0]*x+para_w[1]\n",
    "    err = np.abs(y_pre-y)\n",
    "    w = 1/err**0.5\n",
    "    predict_y_w = para_w[0]*predict_x+para_w[1]\n",
    "    plt.plot(predict_x,predict_y_w,'--', label='iter:{}'.format(iter_i))\n",
    "\n",
    "# print out the result\n",
    "print('True answer: c_1:{},c_0:{}'.format(c1,c0))\n",
    "print('Weighted Least Square answer: c_1:{:.2f},c_0:{:.2f}'.format(para_w[0],para_w[1]))\n",
    "\n",
    "\n",
    "plt.legend()\n",
    "plt.show()"
   ]
  },
  {
   "cell_type": "markdown",
   "metadata": {},
   "source": [
    "## Least Square Regularization\n",
    "\n",
    "Although for least square problem $Ax=b$, the number of equations is usually much larger than the number of unknowns (the number of rows >> the number of columns for $A$), this does not guarantee the matrix $A^\\dagger = A^TA$ is always full rank. \n",
    "\n",
    "A quick demonstration shows as follow:\n"
   ]
  },
  {
   "cell_type": "code",
   "execution_count": 24,
   "metadata": {},
   "outputs": [
    {
     "name": "stdout",
     "output_type": "stream",
     "text": [
      "A=\n",
      "[[ 1  2  3  1  1]\n",
      " [ 3  2  1  0  0]\n",
      " [ 1  4  6  5  5]\n",
      " [ 3  2  6  0  0]\n",
      " [ 2 65  2  2  2]\n",
      " [ 3  2  6  3  3]\n",
      " [ 6  3  6  2  2]]\n",
      "ATA=\n",
      "[[  69  172   88   31   31]\n",
      " [ 172 4266  204  164  164]\n",
      " [  88  204  158   67   67]\n",
      " [  31  164   67   43   43]\n",
      " [  31  164   67   43   43]]\n",
      "ATA^-1=\n",
      "[[ 6.71188887e-02 -1.71831039e-03 -5.13577956e-02 -1.29655198e-01\n",
      "   1.29655198e-01]\n",
      " [-1.71831039e-03  3.22467011e-04  1.58253481e-03  4.58013507e-04\n",
      "  -4.58013507e-04]\n",
      " [-5.13577956e-02  1.58253481e-03  5.82102621e-02  2.86608255e-02\n",
      "  -2.86608255e-02]\n",
      " [-2.53932853e-19  3.06662239e-03  9.81319164e-02  8.83893724e+14\n",
      "  -8.83893724e+14]\n",
      " [ 3.81881316e-02 -5.52352471e-03 -1.57841954e-01 -8.83893724e+14\n",
      "   8.83893724e+14]]\n",
      "true x: [1 2 3 4 5]\n",
      "inverted x: [ -35.16416063    4.3266865    59.54540541  183.16577019 -242.63160552]\n"
     ]
    }
   ],
   "source": [
    "A = np.array([[1,2,3,1,1],[3,2,1,0,0],[1,4,6,5,5],[3,2,6,0,0],[2,65,2,2,2],[3,2,6,3,3],[6,3,6,2,2]])\n",
    "print('A=')\n",
    "print(A)\n",
    "# calculate A dagger\n",
    "Ad = A.T.dot(A)\n",
    "print('ATA=')\n",
    "print(Ad)\n",
    "# calculate A dagger inversion\n",
    "print('ATA^-1=')\n",
    "print(np.linalg.inv(Ad))\n",
    "\n",
    "# true answer\n",
    "x =np.array([1,2,3,4,5]).reshape(-1,1)\n",
    "# calculate synthetic data\n",
    "b = A.dot(x)\n",
    "# perform inversion\n",
    "x_inv = np.linalg.inv(Ad).dot(A.T).dot(b)\n",
    "print('true x:',x.flatten())\n",
    "print('inverted x:',x_inv.flatten())"
   ]
  },
  {
   "cell_type": "markdown",
   "metadata": {},
   "source": [
    "The reason of large error in the inversion result is that the last two columns of $A$ are identical, which makes $A^\\dagger$ not full rank. The matrix inversion of $A^\\dagger$ is performed using iteration method, which generates large numerical error in the inversion.\n",
    "In order to resolve this kind problem, we can regulate the model (unknowns) using our knowledge of the problem. This knowledge does not have to be accurate, but serve as important constrains to stabilize the inversion. \n",
    "\n",
    "A commonly used regularization is to minimize the $L_2$ norm of all the unknowns. We can rewrite the normal equation as:\n",
    "$$\n",
    "(A^TA + \\alpha I)x = A^Tb\n",
    "$$\n",
    "where $\\alpha$ is the weight of the regularization, which is a constant to be chosen. This type of regulation is called [Tikhonov regularization](https://en.wikipedia.org/wiki/Tikhonov_regularization)."
   ]
  },
  {
   "cell_type": "code",
   "execution_count": 31,
   "metadata": {},
   "outputs": [
    {
     "name": "stdout",
     "output_type": "stream",
     "text": [
      "True answer:  [1 2 3 4 5]\n",
      "Inverted answer:  [0.99918729 2.00007375 3.00142044 4.49852262 4.49852262]\n"
     ]
    }
   ],
   "source": [
    "# continue from the last code cell\n",
    "alpha = .01\n",
    "x_regu = np.linalg.inv(A.T.dot(A)+alpha*np.identity(A.shape[1])).dot(A.T.dot(b))\n",
    "print('True answer: ',x.flatten())\n",
    "print('Inverted answer: ',x_regu.flatten())"
   ]
  },
  {
   "cell_type": "markdown",
   "metadata": {},
   "source": [
    "Now the first three unknowns can be correctly inverted. We still cannot invert the last two unknowns correctly, because there is no information provided from the data to distinguish the last two unknowns. \n",
    "\n",
    "Besides Tikhonov regularization, we can also put other kinds constraint based on our knowledge on the model. In general, any constraint can be written in a form as:\n",
    "$$\n",
    "\\Gamma x = \\gamma\n",
    "$$\n",
    "can be put into the normal equation as:\n",
    "$$\n",
    "(A^TA + \\alpha \\Gamma^T\\Gamma)x = A^Tb + \\alpha\\Gamma^T\\gamma\n",
    "$$\n",
    "This is equivalent to solving two least square problems $Ax=b$ and $\\Gamma x = \\gamma$ at the same time with different weight. Actually, we can concatenate $\\Gamma$ and $\\gamma$ to the end of matrix $A$ and vector $b$ to perform the regularization.\n",
    "$$\n",
    "A^* = \n",
    "\\begin{bmatrix}\n",
    "A \\\\ \\alpha\\Gamma\n",
    "\\end{bmatrix}, \\ \\ \\ \n",
    "b^* = \n",
    "\\begin{bmatrix}\n",
    "b \\\\ \\alpha \\gamma\n",
    "\\end{bmatrix}\\\\\n",
    "A^{*T}A^* x = A^{*T}b^*\n",
    "$$\n",
    "\n",
    "In the previous example, if we have the knowledge that the difference between the nearby unknown is 1, we can put this knowledge as regularization to the problem."
   ]
  },
  {
   "cell_type": "code",
   "execution_count": 43,
   "metadata": {},
   "outputs": [
    {
     "name": "stdout",
     "output_type": "stream",
     "text": [
      "True answer:  [1 2 3 4 5]\n",
      "Inverted answer:  [1. 2. 3. 4. 5.]\n"
     ]
    }
   ],
   "source": [
    "# continue from the last code cell\n",
    "alpha = 0.01\n",
    "\n",
    "# form regularization matrix\n",
    "N = A.shape[1]\n",
    "Gamma = np.zeros((N-1,N))\n",
    "for i in range(N-1):\n",
    "    Gamma[i,i] = 1\n",
    "    Gamma[i,i+1] = -1\n",
    "g = -np.ones(N-1).reshape(-1,1)\n",
    "\n",
    "# Concatenate regularization to A and b\n",
    "As = np.vstack([A,alpha*Gamma])\n",
    "bs = np.vstack([b,alpha*g])\n",
    "\n",
    "x_regu = np.linalg.inv(As.T.dot(As)).dot(As.T.dot(bs))\n",
    "print('True answer: ',x.flatten())\n",
    "print('Inverted answer: ',x_regu.flatten())"
   ]
  },
  {
   "cell_type": "markdown",
   "metadata": {},
   "source": [
    "# Acknowledgement\n",
    "\n",
    "Most of this teaching material is based on:\n",
    "\n",
    "Kreyszig, E., 2018. Advanced Engineering Mathematics, 10-th edition."
   ]
  },
  {
   "cell_type": "code",
   "execution_count": null,
   "metadata": {},
   "outputs": [],
   "source": []
  }
 ],
 "metadata": {
  "kernelspec": {
   "display_name": "Python 3",
   "language": "python",
   "name": "python3"
  },
  "language_info": {
   "codemirror_mode": {
    "name": "ipython",
    "version": 3
   },
   "file_extension": ".py",
   "mimetype": "text/x-python",
   "name": "python",
   "nbconvert_exporter": "python",
   "pygments_lexer": "ipython3",
   "version": "3.7.3"
  },
  "toc": {
   "base_numbering": 1,
   "nav_menu": {},
   "number_sections": false,
   "sideBar": true,
   "skip_h1_title": false,
   "title_cell": "Table of Contents",
   "title_sidebar": "Contents",
   "toc_cell": false,
   "toc_position": {
    "height": "calc(100% - 180px)",
    "left": "10px",
    "top": "150px",
    "width": "220.477px"
   },
   "toc_section_display": true,
   "toc_window_display": true
  }
 },
 "nbformat": 4,
 "nbformat_minor": 2
}
