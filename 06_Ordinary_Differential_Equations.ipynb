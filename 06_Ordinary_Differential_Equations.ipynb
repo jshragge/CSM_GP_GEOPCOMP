{
 "cells": [
  {
   "cell_type": "code",
   "execution_count": 2,
   "metadata": {},
   "outputs": [
    {
     "data": {
      "text/html": [
       "<script>\n",
       "code_show=true; \n",
       "function code_toggle() {\n",
       " if (code_show){\n",
       " $('div.input').hide();\n",
       " } else {\n",
       " $('div.input').show();\n",
       " }\n",
       " code_show = !code_show\n",
       "} \n",
       "$( document ).ready(code_toggle);\n",
       "</script>\n",
       "The raw code for this Jupyter notebook is by default hidden for easier reading.\n",
       "To toggle on/off the raw code, click <a href=\"javascript:code_toggle()\">here</a>."
      ],
      "text/plain": [
       "<IPython.core.display.HTML object>"
      ]
     },
     "execution_count": 2,
     "metadata": {},
     "output_type": "execute_result"
    }
   ],
   "source": [
    "from IPython.display import HTML\n",
    "\n",
    "HTML('''<script>\n",
    "code_show=true; \n",
    "function code_toggle() {\n",
    " if (code_show){\n",
    " $('div.input').hide();\n",
    " } else {\n",
    " $('div.input').show();\n",
    " }\n",
    " code_show = !code_show\n",
    "} \n",
    "$( document ).ready(code_toggle);\n",
    "</script>\n",
    "The raw code for this Jupyter notebook is by default hidden for easier reading.\n",
    "To toggle on/off the raw code, click <a href=\"javascript:code_toggle()\">here</a>.''')"
   ]
  },
  {
   "cell_type": "markdown",
   "metadata": {},
   "source": [
    "![title](figs/COMPGEOP_TITLE.jpg)"
   ]
  },
  {
   "cell_type": "markdown",
   "metadata": {},
   "source": [
    "# Chapter 6: Ordinary Differential Equations"
   ]
  },
  {
   "cell_type": "markdown",
   "metadata": {},
   "source": [
    "## Introduction\n",
    "Ordinary differential equations (ODEs) and partial differential equations (PDEs) play a central role in modeling physical problems. Although some ODEs can be solved analytically, in most practical cases ODEs **cannot** be solved analytically or the solutions are very difficult. Thanks for the development of modern computing technology, most of ODEs can be solved or approximated by numerical methods, which will be covered in this chapter. "
   ]
  },
  {
   "cell_type": "markdown",
   "metadata": {},
   "source": [
    "We will mainly focus on solving first-order ODEs, which is the foundation to solve high-order ODEs and coupled ODEs, which we will briefly introduce at the end of this chapter. \n",
    "\n",
    "First-order ODEs has the form of \n",
    "$$\n",
    "y' = f(x,y), \\ \\ \\ y(x_0)=y_0\n",
    "$$\n",
    "where $x_0$ and $y_0$ are initial value of the problem and are given. We also assume that the problem has a unique solution on some open interval $a < x < b$ containing $x_0$. "
   ]
  },
  {
   "cell_type": "markdown",
   "metadata": {},
   "source": [
    "The methods we use in this section are **step-by-step methods**, which compute approximate numeric values of the solution $y_n = y(x_n)$ at the equidistant points on the x-axis\n",
    "$$\n",
    "x_1 = x_0 + h, \\ \\ \\ \n",
    "x_2 = x_0 + 2h, \\ \\ \\\n",
    "x_2 = x_0 + 3h, \\ \\ \\\n",
    "... \\ \\ \\ \n",
    "$$\n",
    "where the **step size** $h$ is a fixed number, for instance, 0.1 or 0.05 or 0.01. How to choose $h$ and the associated error will be discussed later as well. "
   ]
  },
  {
   "cell_type": "markdown",
   "metadata": {},
   "source": [
    "## Euler Method\n",
    "\n",
    "Let's remind ourselves again on the Taylor series:\n",
    "$$\n",
    "y(x+h) = y(x) + hy'(x) + \\frac{h^2}{2} y''(x)\\  + \\  ...\n",
    "$$\n",
    "if we approximate the Taylor series only using the first term, \n",
    "and substitute the equation we try to solve:\n",
    "$$\n",
    "y(x+h) \\approx y(x) + h y'(x)\n",
    " = y(x) + hf(x,y).\n",
    "$$\n",
    "This gives us **Euler method**:\n",
    "$$\n",
    "y_{n+1} = y_n + hf(x_n, y_n)\n",
    "$$"
   ]
  },
  {
   "cell_type": "markdown",
   "metadata": {},
   "source": [
    "### Python example\n",
    "Let's solve a simple problem $y'=x+y$, with initial condition $x_0=0, y_0=0$. \n",
    "This problem has a analytical solution as $y=e^x-x-1$."
   ]
  },
  {
   "cell_type": "code",
   "execution_count": 41,
   "metadata": {},
   "outputs": [],
   "source": [
    "import numpy as np\n",
    "def euler_int(fun,y0,a,b,N):\n",
    "    ''' Function uses Euler method to calculate ODE y' = fun(x,y)\n",
    "    usage: y = euler_int(fun,y0,a,b,N)\n",
    "    input: \n",
    "        fun: function of ODE y'=fun(x,y)\n",
    "        y0: initial value of y at a\n",
    "        a: starting value\n",
    "        b: ending value\n",
    "        N: number of grid\n",
    "    output:\n",
    "        value of x and y between a and b\n",
    "    written by Ge Jin, gjin@mines.edu, 06/2019\n",
    "    '''\n",
    "    h = (b-a)/N;\n",
    "    x = a+h*np.arange(N+1)\n",
    "    y = np.zeros(N+1)\n",
    "    for i in range(1,N+1):\n",
    "        y[i] = y[i-1] + h*f(x[i-1],y[i-1])\n",
    "    return x,y"
   ]
  },
  {
   "cell_type": "code",
   "execution_count": 46,
   "metadata": {},
   "outputs": [
    {
     "data": {
      "image/png": "[encoded data removed]",
      "text/plain": [
       "<Figure size 432x288 with 1 Axes>"
      ]
     },
     "metadata": {
      "needs_background": "light"
     },
     "output_type": "display_data"
    }
   ],
   "source": [
    "\n",
    "# define the ODE y' = f\n",
    "f = lambda x,y: x+y\n",
    "\n",
    "# define range and step number to calculate step size\n",
    "# try different N and see how the error changes\n",
    "a = 0; b = 2;\n",
    "N = 10;\n",
    "y0 = 0;\n",
    "\n",
    "# apply Euler method\n",
    "x,y_euler = euler_int(f,0,0,L,N)\n",
    "\n",
    "# calculate the true value (analytical solution)\n",
    "y_ana = np.exp(x)-x-1\n",
    "\n",
    "# make the plot and compare:\n",
    "plt.figure()\n",
    "plt.plot(x,y_ana,label='True value')\n",
    "plt.plot(x,y_euler,'-o',label='Euler method')\n",
    "plt.legend()\n",
    "plt.show()"
   ]
  },
  {
   "cell_type": "markdown",
   "metadata": {},
   "source": [
    "### Error of the Euler Method\n",
    "As seen in the python example, Euler method is quite inaccurate. From Taylor's formula, we can estimate its error as:\n",
    "$$\n",
    "y(x+h) = y(x) + hy'(x) + \\frac{1}{2} h^2 y''(\\xi)\n",
    "$$\n",
    "where $\\xi$ is an unknown value between $x$ and $x+h$. Keep in mind that this is the error of each step, which is called **local truncatoin error**, and is proportional to $h^2$, written $O(h^2)$, where $O$ suggests order. Because the number of steps is proportional to $1/h$, the total error or **global error** is proportional to $h^2(1/h)=h^1$. We can see that Euler method is called a **first-order method**."
   ]
  },
  {
   "cell_type": "markdown",
   "metadata": {},
   "source": [
    "### Adaptive Step Size Selection\n",
    "Euler method does not require the step size to be constant, which gives the opportunity to model softwares to automatically change the step size $h$ based on the function $f$ and a given tolerance $TOL$.\n",
    "\n",
    "According to the error estimate, the error of $n^{th}$ step with step size $h_n$ can be presented as:\n",
    "$$\n",
    "\\varepsilon = \\frac{1}{2} h^2 y''(\\xi)\n",
    "$$\n",
    "having $|\\varepsilon|=TOL$, we get\n",
    "$$\n",
    "\\frac{1}{2} h^2 |y''(\\xi)| = TOL, \\ \\ \\ \\ \\ h_n = \\sqrt{\\frac{2TOL}{|y''(\\xi)|}}\n",
    "$$\n",
    "and \n",
    "$$\n",
    "y''(\\xi) \\approx y''(x_{n},y_{n}) = f'(x_{n},y_{n}) = f_x(x_{n},y_{n})+f_y(x_{n},y_{n})f(x_{n},y_{n})\n",
    "$$\n"
   ]
  },
  {
   "cell_type": "markdown",
   "metadata": {},
   "source": [
    "## Improved Euler Method\n",
    "From previous python example we can see Euler method is quite inaccurate: decrease the step size by half, the error only decrease by half. One way to increase accuracy is to include more terms in Taylor series. However, because $f$ is a function of both $x$ and $y$, higher order derivative of $f$ is difficult to calculate. The **general strategy** now is to avoid the computation of these derivatives and to replace it by computing $f$ for one or several suitably chosen auxiliary values of $(x,y)$. \n",
    "\n",
    "In each step of the **improved Euler method** we compute two values, first the **predictor**\n",
    "$$\n",
    "y^*_{n+1} = y_n + hf(x_n,y_n),\n",
    "$$\n",
    ", and then the **corrector**:\n",
    "$$\n",
    "y_{n+1} = y_n + \\frac{1}{2}h \\left[\n",
    "f(x_n,y_n) + f(x_{n+1},y^*_{n+1})\n",
    "\\right]\n",
    "$$\n",
    "Hence the improved Euler method is a predictor-corrector method: in each step we predict a value and then correct it."
   ]
  },
  {
   "cell_type": "markdown",
   "metadata": {},
   "source": [
    "### Python Example"
   ]
  },
  {
   "cell_type": "code",
   "execution_count": 43,
   "metadata": {},
   "outputs": [],
   "source": [
    "import numpy as np\n",
    "def improve_euler_int(fun,y0,a,b,N):\n",
    "    ''' Function uses Euler method to calculate ODE y' = fun(x,y)\n",
    "    usage: y = euler_int(fun,y0,a,b,N)\n",
    "    input: \n",
    "        fun: function of ODE y'=fun(x,y)\n",
    "        y0: initial value of y at a\n",
    "        a: starting value\n",
    "        b: ending value\n",
    "        N: number of grid\n",
    "    output:\n",
    "        value of x and y between a and b\n",
    "    written by Ge Jin, gjin@mines.edu, 06/2019\n",
    "    '''\n",
    "    h = (b-a)/N;\n",
    "    x = a+h*np.arange(N+1)\n",
    "    y = np.zeros(N+1)\n",
    "    for i in range(1,N+1):\n",
    "        yp = y[i-1] + h*f(x[i-1],y[i-1])\n",
    "        y[i] = y[i-1] + h/2*(f(x[i-1],y[i-1])+f(x[i],yp))\n",
    "    return x,y"
   ]
  },
  {
   "cell_type": "code",
   "execution_count": 48,
   "metadata": {},
   "outputs": [
    {
     "data": {
      "image/png": "[encoded data removed]",
      "text/plain": [
       "<Figure size 432x288 with 1 Axes>"
      ]
     },
     "metadata": {
      "needs_background": "light"
     },
     "output_type": "display_data"
    }
   ],
   "source": [
    "\n",
    "# define the ODE y' = f\n",
    "f = lambda x,y: x+y\n",
    "\n",
    "# define range and step number to calculate step size\n",
    "# try different N and see how the error changes\n",
    "a = 0; b = 2;\n",
    "N = 10;\n",
    "y0 = 0;\n",
    "\n",
    "# apply Euler method\n",
    "x,y_euler = euler_int(f,0,0,L,N)\n",
    "# apply Improved Euler method, with the same function evaluation time as Euler method\n",
    "x_imp,y_imp= improve_euler_int(f,0,0,L,N//2)\n",
    "\n",
    "# calculate the true value (analytical solution)\n",
    "y_ana = np.exp(x)-x-1\n",
    "\n",
    "# make the plot and compare:\n",
    "plt.figure()\n",
    "plt.plot(x,y_ana,label='True value')\n",
    "plt.plot(x,y_euler,'-o',label='Euler method')\n",
    "plt.plot(x_imp,y_imp,'-o',label='Improve Euler method')\n",
    "plt.legend()\n",
    "plt.show()"
   ]
  },
  {
   "cell_type": "markdown",
   "metadata": {},
   "source": [
    "### Error of the Improved Euler Method\n",
    "From the python example we can see that even with the same number of function evaluation times, improved Euler method provides much higher precision than the Euler method. This is due to improved Euler method is a **second-order method**. \n",
    "\n",
    "Setting $\\tilde{f_n} = f(x_n,y(x_n))$, and from Taylor series\n",
    "$$\n",
    "y(x_n+h) - y(x_n) = h \\tilde{f_n} + \\frac{1}{2}h^2 \\tilde{f'_n} \n",
    "+ \\frac{1}{6}h^3 \\tilde{f''_n} + \\dots\n",
    "$$\n",
    "Using improved Euler method, we have\n",
    "$$\n",
    "\\begin{align}\n",
    "y_{n+1} - y_n &\\approx \\frac{1}{2}h\\left[ \\tilde{f_n} + \\tilde{f_n}_{+1} \\right] \\\\\n",
    "&= \\frac{1}{2}h \\left[\\tilde{f_n} + ( \\tilde{f_n} + h \\tilde{f'_n} + \\frac{1}{2}h^2 \\tilde{f''_n} + \\dots )\\right] \\\\\n",
    "&= h \\tilde{f_n} + \\frac{1}{2}h^2 \\tilde{f'_n} \n",
    "+ \\frac{1}{4}h^3 \\tilde{f''_n} + \\dots\n",
    "\\end{align}\n",
    "$$\n",
    "and the difference between the approximation and Taylor series is\n",
    "$$\n",
    " \\frac{1}{6}h^3 \\tilde{f''_n} \n",
    "- \\frac{1}{4}h^3 \\tilde{f''_n} + \\dots = \n",
    " -\\frac{1}{12}h^3 \\tilde{f''_n} \n",
    "$$\n",
    "so that the method is of second order. "
   ]
  },
  {
   "cell_type": "markdown",
   "metadata": {},
   "source": [
    "It worth noting that improved Euler method approximate $\\tilde{f_n}_{+1}$ using $f(x_{n+1},y^*_{n+1})$. \n",
    "From Euler method error estimation we know $y_{n+1} = y^*_{n+1} + O(h^2)$, so \n",
    "$\n",
    "\\tilde{f_n}_{+1} - f(x_{n+1},y^*_{n+1}) \\sim O(h^3),\n",
    "$\n",
    "hence does not affect the order of the error.\n"
   ]
  },
  {
   "cell_type": "markdown",
   "metadata": {},
   "source": []
  },
  {
   "cell_type": "markdown",
   "metadata": {},
   "source": []
  },
  {
   "cell_type": "markdown",
   "metadata": {},
   "source": []
  },
  {
   "cell_type": "markdown",
   "metadata": {},
   "source": []
  },
  {
   "cell_type": "markdown",
   "metadata": {},
   "source": []
  },
  {
   "cell_type": "markdown",
   "metadata": {},
   "source": []
  },
  {
   "cell_type": "markdown",
   "metadata": {},
   "source": [
    "# Acknowledgement\n",
    "\n",
    "Most of this teaching material is based on:\n",
    "\n",
    "Kreyszig, E., 2018. Advanced Engineering Mathematics, 10-th edition."
   ]
  },
  {
   "cell_type": "code",
   "execution_count": null,
   "metadata": {},
   "outputs": [],
   "source": []
  }
 ],
 "metadata": {
  "kernelspec": {
   "display_name": "Python 3",
   "language": "python",
   "name": "python3"
  },
  "language_info": {
   "codemirror_mode": {
    "name": "ipython",
    "version": 3
   },
   "file_extension": ".py",
   "mimetype": "text/x-python",
   "name": "python",
   "nbconvert_exporter": "python",
   "pygments_lexer": "ipython3",
   "version": "3.7.3"
  },
  "toc": {
   "base_numbering": 1,
   "nav_menu": {},
   "number_sections": false,
   "sideBar": true,
   "skip_h1_title": false,
   "title_cell": "Table of Contents",
   "title_sidebar": "Contents",
   "toc_cell": false,
   "toc_position": {},
   "toc_section_display": true,
   "toc_window_display": false
  }
 },
 "nbformat": 4,
 "nbformat_minor": 2
}
