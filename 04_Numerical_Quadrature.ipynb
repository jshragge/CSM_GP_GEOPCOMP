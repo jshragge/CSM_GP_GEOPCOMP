{
 "cells": [
  {
   "cell_type": "code",
   "execution_count": 2,
   "metadata": {},
   "outputs": [],
   "source": [
    "import numpy as np\n",
    "import matplotlib.pyplot as plt\n",
    "%matplotlib inline"
   ]
  },
  {
   "cell_type": "markdown",
   "metadata": {},
   "source": [
    "outlines:\n",
    "1. intro\n",
    "2. rectangular rule\n",
    "3. trapezoidal rule\n",
    "4. simpson's rule\n",
    "5. gauss rule\n",
    "\n"
   ]
  },
  {
   "attachments": {},
   "cell_type": "markdown",
   "metadata": {},
   "source": [
    "# Numerical Quadrature\n",
    "Numerical quadrature, or numerical integration, is commonly used when the integrals are very difficult or even impossible to solve analytically. For example, one of the most commonly used function, the error function $erf(x) = \\frac{2}{\\pi}\\int_0^x e^{t^2}dt$, has been proved to have no analytical form of solution. We need methods from numerical analysis to evaluate such integrals. \n",
    "\n",
    "We also need the algorithms when the integrand of the integral to be evaluated does not have an analytical form. For example, we may need to calculate the volume of a reservoir from seismic horizons, or to obtain accumulative production volume of a well from daily production rate measurement. \n",
    "\n",
    "In general, numeric integration means the numeric evaluation of integrals\n",
    "$$\n",
    "J = \\int_a^b f(x)dx\n",
    "$$\n",
    "where $a$ and $b$ are given and $f$ is a function given analytically by a formula or empirically by a table of values. \n",
    "Geometrically, $J$ is the area under the curve of $f$ between $a$ and $b$. \n",
    "\n",
    "<img src=\"files/figs/figure440.png\" width=\"300\">"
   ]
  },
  {
   "attachments": {},
   "cell_type": "markdown",
   "metadata": {},
   "source": [
    "## Rectangular Rule\n",
    "Rectangular rule is the simplest way to perform the numerical integration. It requires subdividing the interval of integration $a\\leq x \\leq b$ into $n$ subintervals of equal length $h=(b-a)/n$, and in each subinterval approximate $f$ by the constant $f(x^*_j)$, which is the value of $f$ at the midpoint $x_j^*$ of the $j$th subinteval. \n",
    "In this way, $f$ is approximated by a **step function** (piecewise constant function), and the $n$ rectangles have the areas $f(x_j^*)h$. The rectangular rule can be presented as:\n",
    "$$\n",
    "J = \\int_a^b f(x)dx \\approx h \\sum_{i=1}^{n} f(x_i^*) \n",
    "$$\n",
    "where $x_i^* = a + (i-1/2)h$.\n",
    "\n",
    "\n",
    "<img src=\"files/figs/figure441.png\" width=\"400\">"
   ]
  },
  {
   "cell_type": "markdown",
   "metadata": {},
   "source": [
    "### Python example of rectangular rule\n",
    "Let's calculate a simple integration using rectangular rule:\n",
    "$$\\int_0^\\pi sin(x)dx .$$\n",
    "As we already know, this integral has the analytic solution as:\n",
    "$$\n",
    "\\int_0^\\pi sin(x)dx =\n",
    "-cos(\\pi)+cos(0) = 2\n",
    "$$\n"
   ]
  },
  {
   "cell_type": "code",
   "execution_count": 3,
   "metadata": {},
   "outputs": [
    {
     "data": {
      "image/png": "[encoded data removed]",
      "text/plain": [
       "<Figure size 432x288 with 1 Axes>"
      ]
     },
     "metadata": {
      "needs_background": "light"
     },
     "output_type": "display_data"
    }
   ],
   "source": [
    "x = np.linspace(0,np.pi,100)\n",
    "y = np.sin(x)\n",
    "plt.figure()\n",
    "plt.plot(x,y)\n",
    "plt.show()\n"
   ]
  },
  {
   "cell_type": "code",
   "execution_count": null,
   "metadata": {},
   "outputs": [],
   "source": []
  }
 ],
 "metadata": {
  "kernelspec": {
   "display_name": "Python 3",
   "language": "python",
   "name": "python3"
  },
  "language_info": {
   "codemirror_mode": {
    "name": "ipython",
    "version": 3
   },
   "file_extension": ".py",
   "mimetype": "text/x-python",
   "name": "python",
   "nbconvert_exporter": "python",
   "pygments_lexer": "ipython3",
   "version": "3.7.0"
  }
 },
 "nbformat": 4,
 "nbformat_minor": 2
}
